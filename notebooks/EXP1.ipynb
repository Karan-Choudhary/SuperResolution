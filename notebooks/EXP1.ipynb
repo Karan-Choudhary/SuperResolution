{
 "cells": [
  {
   "cell_type": "code",
   "execution_count": 1,
   "metadata": {},
   "outputs": [],
   "source": [
    "import pandas as pd\n",
    "import numpy as np\n",
    "import matplotlib.pyplot as plt"
   ]
  },
  {
   "cell_type": "code",
   "execution_count": 2,
   "metadata": {},
   "outputs": [],
   "source": [
    "import tensorflow as tf\n",
    "import tensorlayer as tl\n",
    "import torch.nn as nn"
   ]
  },
  {
   "cell_type": "code",
   "execution_count": 3,
   "metadata": {},
   "outputs": [],
   "source": [
    "def get_gen(input_shape):\n",
    "    w_init = tf.random_normal_initializer(stddev=0.02)\n",
    "    g_init = tf.random_normal_initializer(1., 0.02)\n",
    "\n",
    "    nin = tf.keras.layers.Input(input_shape)\n",
    "    n = tf.keras.layers.Conv2D(64, (3,3), (1,1), padding='same', kernel_initializer=w_init,activation='relu')(nin)\n",
    "    temp=n\n",
    "\n",
    "    # B residual blocks\n",
    "    for i in range(16):\n",
    "        nn = tf.keras.layers.Conv2D(64, (3,3), (1,1), padding='same', kernel_initializer=w_init)(n)\n",
    "        nn = tf.keras.layers.BatchNormalization(gamma_initializer=g_init)(nn)\n",
    "        nn = tf.keras.activations.relu(nn)\n",
    "        nn = tf.keras.layers.Conv2D(64, (3,3), (1,1), padding='same', kernel_initializer=w_init)(nn)\n",
    "        nn = tf.keras.layers.BatchNormalization(gamma_initializer=g_init)(nn)\n",
    "        nn = tf.keras.layers.Add()([n, nn])\n",
    "        n=nn\n",
    "\n",
    "    n = tf.keras.layers.Conv2D(64, (3,3), (1,1), padding='same', kernel_initializer=w_init,bias_initializer=None)(n)\n",
    "    n = tf.keras.layers.BatchNormalization(gamma_initializer=g_init)(n)\n",
    "    n = tf.keras.layers.Add()([n, temp])\n",
    "\n",
    "    n = tf.keras.layers.Conv2D(256, (3,3), (1,1), padding='same', kernel_initializer=w_init)(n)\n",
    "    n = tl.layers.SubpixelConv2d(scale=2, n_out_channels=None)(n)\n",
    "\n",
    "    n = tf.keras.layers.Conv2D(256, (3,3), (1,1), padding='same', kernel_initializer=w_init)(n)\n",
    "    n = tl.layers.SubpixelConv2d(scale=2, n_out_channels=None)(n)\n",
    "\n",
    "    nn = tf.keras.layers.Conv2D(3, (1,1), (1,1), padding='same', kernel_initializer=w_init,activation='tanh')(n)\n",
    "    generator = tf.keras.models.Model(inputs=nin, outputs=nn, name='generator')\n",
    "    return generator"
   ]
  },
  {
   "cell_type": "code",
   "execution_count": 4,
   "metadata": {},
   "outputs": [],
   "source": [
    "def get_Dis(input_shape):\n",
    "    w_init = tf.random_normal_initializer(stddev=0.02)\n",
    "    gamma_initializer = tf.random_normal_initializer(1., 0.02)\n",
    "    df_dim = 64\n",
    "    \n",
    "    nin = tf.keras.layers.Input(input_shape)\n",
    "    n = tf.keras.layers.Conv2D(df_dim, (4,4), (1,1), padding='same', kernel_initializer=w_init,activation='LeakyReLU')(nin)\n",
    "\n",
    "    n = tf.keras.layers.Conv2D(df_dim, (4,4), (2,2), padding='same', kernel_initializer=w_init,activation='LeakyReLU',bias_initializer=None)(n)\n",
    "    n = tf.keras.layers.BatchNormalization(gamma_initializer=gamma_initializer)(n)\n",
    "    n = tf.keras.layers.Conv2D(df_dim*2, (4,4), (1,1), padding='same', kernel_initializer=w_init,activation='LeakyReLU',bias_initializer=None)(n)\n",
    "    n = tf.keras.layers.BatchNormalization(gamma_initializer=gamma_initializer)(n)\n",
    "    n = tf.keras.layers.Conv2D(df_dim*2, (4,4), (2,2), padding='same', kernel_initializer=w_init,activation='LeakyReLU',bias_initializer=None)(n)\n",
    "    n = tf.keras.layers.BatchNormalization(gamma_initializer=gamma_initializer)(n)\n",
    "    n = tf.keras.layers.Conv2D(df_dim*4, (4,4), (1,1), padding='same', kernel_initializer=w_init,activation='LeakyReLU',bias_initializer=None)(n)\n",
    "    n = tf.keras.layers.BatchNormalization(gamma_initializer=gamma_initializer)(n)\n",
    "    n = tf.keras.layers.Conv2D(df_dim*4, (4,4), (2,2), padding='same', kernel_initializer=w_init,activation='LeakyReLU',bias_initializer=None)(n)\n",
    "    n = tf.keras.layers.BatchNormalization(gamma_initializer=gamma_initializer)(n)\n",
    "    n = tf.keras.layers.Conv2D(df_dim*8, (4,4), (1,1), padding='same', kernel_initializer=w_init,activation='LeakyReLU',bias_initializer=None)(n)\n",
    "    n = tf.keras.layers.BatchNormalization(gamma_initializer=gamma_initializer)(n)\n",
    "    n = tf.keras.layers.Conv2D(df_dim*8, (4,4), (2,2), padding='same', kernel_initializer=w_init,activation='LeakyReLU',bias_initializer=None)(n)\n",
    "    n = tf.keras.layers.BatchNormalization(gamma_initializer=gamma_initializer)(n)\n",
    "\n",
    "    n = tf.keras.layers.Flatten()(n)\n",
    "    n = tf.keras.layers.Dense(1024, kernel_initializer=w_init,activation='LeakyReLU')(n)\n",
    "    n = tf.keras.layers.Dense(1, kernel_initializer=w_init,activation='sigmoid')(n)\n",
    "    discriminator = tf.keras.models.Model(inputs=nin, outputs=n, name='discriminator')\n",
    "    return discriminator\n",
    "    "
   ]
  },
  {
   "cell_type": "code",
   "execution_count": 5,
   "metadata": {},
   "outputs": [],
   "source": [
    "def get_Dis2(input_shape):\n",
    "    w_init = tf.random_normal_initializer(stddev=0.02)\n",
    "    gamma_initializer = tf.random_normal_initializer(1., 0.02)\n",
    "    df_dim = 64\n",
    "\n",
    "    nin = tf.keras.layers.Input(input_shape)\n",
    "    n = tf.keras.layers.Conv2D(df_dim, (4,4), (2,2), padding='same', kernel_initializer=w_init,activation='LeakyReLU')(nin)\n",
    "\n",
    "    n = tf.keras.layers.Conv2D(df_dim*2, (4,4), (2,2), padding='same', kernel_initializer=w_init,activation='LeakyReLU',bias_initializer=None)(n)\n",
    "    n = tf.keras.layers.BatchNormalization(gamma_initializer=gamma_initializer)(n)\n",
    "    n = tf.keras.layers.Conv2D(df_dim*4, (4,4), (2,2), padding='same', kernel_initializer=w_init,activation='LeakyReLU',bias_initializer=None)(n)\n",
    "    n = tf.keras.layers.BatchNormalization(gamma_initializer=gamma_initializer)(n)\n",
    "    n = tf.keras.layers.Conv2D(df_dim*8, (4,4), (2,2), padding='same', kernel_initializer=w_init,activation='LeakyReLU',bias_initializer=None)(n)\n",
    "    n = tf.keras.layers.BatchNormalization(gamma_initializer=gamma_initializer)(n)\n",
    "    n = tf.keras.layers.Conv2D(df_dim*16, (4,4), (2,2), padding='same', kernel_initializer=w_init,activation='LeakyReLU',bias_initializer=None)(n)\n",
    "    n = tf.keras.layers.BatchNormalization(gamma_initializer=gamma_initializer)(n)\n",
    "    n = tf.keras.layers.Conv2D(df_dim*32, (4,4), (2,2), padding='same', kernel_initializer=w_init,activation='LeakyReLU',bias_initializer=None)(n)\n",
    "    n = tf.keras.layers.BatchNormalization(gamma_initializer=gamma_initializer)(n)\n",
    "    n = tf.keras.layers.Conv2D(df*16, (1,1), (1,1), padding='same', kernel_initializer=w_init,activation='LeakyReLU',bias_initializer=None)(n)\n",
    "    n = tf.keras.layers.BatchNormalization(gamma_initializer=gamma_initializer)(n)\n",
    "    n = tf.keras.layers.Conv2D(df*8, (1,1), (1,1), padding='same', kernel_initializer=w_init,activation='LeakyReLU',bias_initializer=None)(n)\n",
    "    nn = tf.keras.layers.BatchNormalization(gamma_initializer=gamma_initializer)(n)\n",
    "\n",
    "    n = tf.keras.layers.Conv2D(df*2,(1,1),(1,1),padding='same',kernel_initializer=w_init,activation='LeakyReLU',bias_initializer=None)(nn)\n",
    "    n = tf.keras.layers.BatchNormalization(gamma_initializer=gamma_initializer)(n)\n",
    "    n = tf.keras.layers.Conv2D(df*2,(3,3),(1,1),padding='same',kernel_initializer=w_init,activation='LeakyReLU',bias_initializer=None)(n)\n",
    "    n = tf.keras.layers.BatchNormalization(gamma_initializer=gamma_initializer)(n)\n",
    "    n = tf.keras.layers.Conv2D(df*8,(3,3),(1,1),padding='same',kernel_initializer=w_init,activation='LeakyReLU',bias_initializer=None)(n)\n",
    "    n = tf.keras.layers.BatchNormalization(gamma_initializer=gamma_initializer)(n)\n",
    "    n = tf.keras.layers.Add()([nn,n])\n",
    "\n",
    "    n = Flatten()(n)\n",
    "    n = Dense(1,kernel_initializer=w_init,activation='LeakyReLU')(n)\n",
    "    discriminator = tf.keras.models.Model(inputs=nin, outputs=n, name='discriminator')\n",
    "    return discriminator"
   ]
  },
  {
   "cell_type": "code",
   "execution_count": 6,
   "metadata": {},
   "outputs": [],
   "source": [
    "def load(image_file):\n",
    "    image = tf.io.read_file(image_file)\n",
    "    image = tf.image.decode_png(image)\n",
    "    image = tf.cast(image, tf.float32)\n",
    "    return image\n",
    "\n",
    "def resize(image,height,width):\n",
    "    image = tf.image.resize(image,[height,width],method=tf.image.ResizeMethod.NEAREST_NEIGHBOR)\n",
    "    return image\n",
    "\n",
    "def normalize(image):\n",
    "    image = (image/127.5)-1\n",
    "    return image\n",
    "\n",
    "def random_crop(image):\n",
    "    image = tf.image.random_crop(image,[384,384,3])\n",
    "    return image\n",
    "\n",
    "@tf.function\n",
    "def random_jitter(image):\n",
    "    image = resize(image,390,390)\n",
    "    image = random_crop(image)\n",
    "\n",
    "    if tf.random.uniform(())>0.5:\n",
    "        image = tf.image.flip_left_right(image)\n",
    "    return image"
   ]
  },
  {
   "cell_type": "code",
   "execution_count": 7,
   "metadata": {},
   "outputs": [],
   "source": [
    "def load_image_train(image_file):\n",
    "    image = load(image_file)\n",
    "    image = random_jitter(image)\n",
    "    image = normalize(image)\n",
    "    return image\n",
    "\n",
    "def load_image_test(image_file):\n",
    "    image = load(image_file)\n",
    "    image = resize(image,390,390)\n",
    "    image = normalize(image)\n",
    "    return image"
   ]
  },
  {
   "cell_type": "code",
   "execution_count": 59,
   "metadata": {},
   "outputs": [],
   "source": [
    "LR = tf.data.Dataset.list_files(r'C:\\Users\\kc510\\Documents\\Projects\\Projects_MLOps\\Project_SuperResolution\\data\\train\\LR'+'\\\\*.png',shuffle=False)\n",
    "LR = LR.map(load_image_train,num_parallel_calls=tf.data.experimental.AUTOTUNE)\n",
    "HR = tf.data.Dataset.list_files(r'C:\\Users\\kc510\\Documents\\Projects\\Projects_MLOps\\Project_SuperResolution\\data\\train\\HR'+'\\\\*.png',shuffle=False)\n",
    "HR = HR.map(load_image_train,num_parallel_calls=tf.data.experimental.AUTOTUNE)\n",
    "ds = tf.data.Dataset.zip((LR,HR))\n",
    "ds = ds.shuffle(buffer_size=800).batch(4)"
   ]
  },
  {
   "cell_type": "code",
   "execution_count": 130,
   "metadata": {},
   "outputs": [
    {
     "name": "stderr",
     "output_type": "stream",
     "text": [
      "Clipping input data to the valid range for imshow with RGB data ([0..1] for floats or [0..255] for integers).\n",
      "Clipping input data to the valid range for imshow with RGB data ([0..1] for floats or [0..255] for integers).\n"
     ]
    },
    {
     "data": {
      "image/png": "[encoded data removed]",
      "text/plain": [
       "<Figure size 432x288 with 2 Axes>"
      ]
     },
     "metadata": {
      "needs_background": "light"
     },
     "output_type": "display_data"
    }
   ],
   "source": [
    "for inp,out in ds.take(1):\n",
    "    display_list = [inp[0],out[0]]\n",
    "    for i in range(2):\n",
    "        plt.subplot(1,2,i+1)\n",
    "        plt.imshow(display_list[i]*0.5)\n",
    "        plt.axis('off')\n",
    "    plt.show()"
   ]
  },
  {
   "cell_type": "code",
   "execution_count": 64,
   "metadata": {},
   "outputs": [
    {
     "name": "stdout",
     "output_type": "stream",
     "text": [
      "(4, 384, 384, 3) (4, 384, 384, 3)\n"
     ]
    }
   ],
   "source": [
    "for n, (inp,out) in ds.enumerate():\n",
    "    print(inp.shape,out.shape)\n",
    "    break"
   ]
  },
  {
   "cell_type": "code",
   "execution_count": 43,
   "metadata": {},
   "outputs": [],
   "source": [
    "LAMBDA = 1e-3"
   ]
  },
  {
   "cell_type": "code",
   "execution_count": 44,
   "metadata": {},
   "outputs": [],
   "source": [
    "def generator_loss(disc_generated_output,gen_output,target):\n",
    "    valid = tf.ones_like(disc_generated_output)\n",
    "    gan_loss = tf.keras.losses.MSE(valid,disc_generated_output)\n",
    "\n",
    "    gen_features = feature_extractor(gen_output)\n",
    "    real_features = feature_extractor(target)\n",
    "    l1_loss = tf.reduce_mean(tf.abs(gen_features-real_features))\n",
    "\n",
    "    total_gen_loss = gan_loss + (LAMBDA*l1_loss)\n",
    "\n",
    "    return total_gen_loss,gan_loss,l1_loss\n",
    "\n",
    "def discriminator_loss(disc_real_output,disc_generated_output):\n",
    "    real_loss = tf.keras.losses.MSE(tf.ones_like(disc_real_output),disc_real_output)\n",
    "    generated_loss = tf.keras.losses.MSE(tf.zeros_like(disc_generated_output),disc_generated_output)\n",
    "    total_disc_loss = (real_loss + generated_loss) / 2\n",
    "    return total_disc_loss\n",
    "    "
   ]
  },
  {
   "cell_type": "code",
   "execution_count": 56,
   "metadata": {},
   "outputs": [],
   "source": [
    "# criterion_GAN = nn.MSELoss()\n",
    "# criterion_content = nn.L1Loss()\n",
    "\n",
    "# Adversarial truth\n",
    "from tensorflow.keras.applications.vgg19 import VGG19\n",
    "vgg19_model = VGG19(weights='imagenet',include_top=False)\n",
    "feature_extractor = tf.keras.models.Sequential(*[(vgg19_model.layers)[:18]])"
   ]
  },
  {
   "cell_type": "code",
   "execution_count": null,
   "metadata": {},
   "outputs": [],
   "source": [
    "def gen_loss(disc_generated_output,target,output):\n",
    "    valid = tf.ones_like(disc_generated_output)\n",
    "    loss_gan = tf.keras.losses.MSE(valid,disc_generated_output)\n",
    "    # Content loss\n",
    "    gen_features = feature_extractor(output,training=True)\n",
    "    real_features = feature_extractor(target,training=True)\n",
    "    l1_loss = tf.reduce_mean(tf.abs(real_features-gen_features))\n",
    "\n",
    "    total_gen_loss = loss_gan + 1e-3*l1_loss\n",
    "    return total_gen_loss, loss_gan, l1_loss\n",
    "\n",
    "def disc_loss(disc_real_output,disc_generated_output):\n",
    "    real_loss = tf.keras.losses.MSE(tf.ones_like(disc_real_output),disc_real_output)\n",
    "    generated_loss = tf.keras.losses.MSE(tf.zeros_like(disc_generated_output),disc_generated_output)\n",
    "    total_disc_loss = (real_loss + generated_loss) / 2\n",
    "    return total_disc_loss"
   ]
  },
  {
   "cell_type": "code",
   "execution_count": 57,
   "metadata": {},
   "outputs": [],
   "source": [
    "generator_optimizer = tf.keras.optimizers.Adam(2e-4,0.5)\n",
    "discriminator_optimizer = tf.keras.optimizers.Adam(2e-4,0.5)\n",
    "def train(input_image,target,epoch):\n",
    "    with tf.GradientTape() as gen_tape, tf.GradientTape() as disc_tape:\n",
    "        gen_output = generator(input_image,training=True)\n",
    "        disc_real_output = discriminator(target,training=True) \n",
    "        disc_generated_output = discriminator(gen_output,training=True)\n",
    "        gen_total_loss, gen_loss_gan, gen_loss_l1 = generator_loss(disc_generated_output,gen_output,target)\n",
    "        disc_loss = discriminator_loss(disc_real_output,disc_generated_output)\n",
    "\n",
    "    generator_gradients = gen_tape.gradient(gen_total_loss,generator.trainable_variables)\n",
    "    discriminator_gradients = disc_tape.gradient(disc_loss,discriminator.trainable_variables)\n",
    "\n",
    "    generator_optimizer.apply_gradients(zip(generator_gradients,generator.trainable_variables))\n",
    "    discriminator_optimizer.apply_gradients(zip(discriminator_gradients,discriminator.trainable_variables))"
   ]
  },
  {
   "cell_type": "code",
   "execution_count": 60,
   "metadata": {},
   "outputs": [],
   "source": [
    "def fit(train_ds,epochs):\n",
    "    for epoch in range(epochs):\n",
    "        start = time.time()\n",
    "        for n, (input_image,target) in train_ds.enumerate():\n",
    "            print(\".\",end=\"\")\n",
    "            train(input_image,target,epoch)\n",
    "            if n % 100 == 0:\n",
    "                print()\n",
    "        print()\n",
    "\n",
    "        if(epoch+1)%5 == 0:\n",
    "            checkpoint.save(file_prefix = checkpoint_prefix)\n",
    "            generator.save()\n",
    "            discriminator.save()\n",
    "        \n",
    "        print('Time taken for epoch {} is {} sec'.format(epoch+1,time.time()-start))"
   ]
  },
  {
   "cell_type": "code",
   "execution_count": 4,
   "metadata": {},
   "outputs": [
    {
     "name": "stdout",
     "output_type": "stream",
     "text": [
      "[TL] SubpixelConv2d  subpixelconv2d_1: scale: 2 act: No Activation\n"
     ]
    },
    {
     "ename": "AttributeError",
     "evalue": "'KerasTensor' object has no attribute '_info'",
     "output_type": "error",
     "traceback": [
      "\u001b[1;31m---------------------------------------------------------------------------\u001b[0m",
      "\u001b[1;31mAttributeError\u001b[0m                            Traceback (most recent call last)",
      "\u001b[1;32m<ipython-input-4-d76ada008dfd>\u001b[0m in \u001b[0;36m<module>\u001b[1;34m\u001b[0m\n\u001b[0;32m      1\u001b[0m \u001b[1;32mimport\u001b[0m \u001b[0mtime\u001b[0m\u001b[1;33m\u001b[0m\u001b[1;33m\u001b[0m\u001b[0m\n\u001b[1;32m----> 2\u001b[1;33m \u001b[0mgenerator\u001b[0m \u001b[1;33m=\u001b[0m \u001b[0mget_gen\u001b[0m\u001b[1;33m(\u001b[0m\u001b[0minput_shape\u001b[0m\u001b[1;33m=\u001b[0m\u001b[1;33m(\u001b[0m\u001b[1;36m384\u001b[0m\u001b[1;33m,\u001b[0m\u001b[1;36m384\u001b[0m\u001b[1;33m,\u001b[0m\u001b[1;36m3\u001b[0m\u001b[1;33m)\u001b[0m\u001b[1;33m)\u001b[0m\u001b[1;33m\u001b[0m\u001b[1;33m\u001b[0m\u001b[0m\n\u001b[0m\u001b[0;32m      3\u001b[0m \u001b[1;31m# discriminator = get_disc()\u001b[0m\u001b[1;33m\u001b[0m\u001b[1;33m\u001b[0m\u001b[1;33m\u001b[0m\u001b[0m\n\u001b[0;32m      4\u001b[0m \u001b[1;31m# fit(ds,5)\u001b[0m\u001b[1;33m\u001b[0m\u001b[1;33m\u001b[0m\u001b[1;33m\u001b[0m\u001b[0m\n",
      "\u001b[1;32m<ipython-input-3-688f74749ed4>\u001b[0m in \u001b[0;36mget_gen\u001b[1;34m(input_shape)\u001b[0m\n\u001b[0;32m     22\u001b[0m \u001b[1;33m\u001b[0m\u001b[0m\n\u001b[0;32m     23\u001b[0m     \u001b[0mn\u001b[0m \u001b[1;33m=\u001b[0m \u001b[0mtf\u001b[0m\u001b[1;33m.\u001b[0m\u001b[0mkeras\u001b[0m\u001b[1;33m.\u001b[0m\u001b[0mlayers\u001b[0m\u001b[1;33m.\u001b[0m\u001b[0mConv2D\u001b[0m\u001b[1;33m(\u001b[0m\u001b[1;36m256\u001b[0m\u001b[1;33m,\u001b[0m \u001b[1;33m(\u001b[0m\u001b[1;36m3\u001b[0m\u001b[1;33m,\u001b[0m\u001b[1;36m3\u001b[0m\u001b[1;33m)\u001b[0m\u001b[1;33m,\u001b[0m \u001b[1;33m(\u001b[0m\u001b[1;36m1\u001b[0m\u001b[1;33m,\u001b[0m\u001b[1;36m1\u001b[0m\u001b[1;33m)\u001b[0m\u001b[1;33m,\u001b[0m \u001b[0mpadding\u001b[0m\u001b[1;33m=\u001b[0m\u001b[1;34m'same'\u001b[0m\u001b[1;33m,\u001b[0m \u001b[0mkernel_initializer\u001b[0m\u001b[1;33m=\u001b[0m\u001b[0mw_init\u001b[0m\u001b[1;33m)\u001b[0m\u001b[1;33m(\u001b[0m\u001b[0mn\u001b[0m\u001b[1;33m)\u001b[0m\u001b[1;33m\u001b[0m\u001b[1;33m\u001b[0m\u001b[0m\n\u001b[1;32m---> 24\u001b[1;33m     \u001b[0mn\u001b[0m \u001b[1;33m=\u001b[0m \u001b[0mtl\u001b[0m\u001b[1;33m.\u001b[0m\u001b[0mlayers\u001b[0m\u001b[1;33m.\u001b[0m\u001b[0mSubpixelConv2d\u001b[0m\u001b[1;33m(\u001b[0m\u001b[0mscale\u001b[0m\u001b[1;33m=\u001b[0m\u001b[1;36m2\u001b[0m\u001b[1;33m,\u001b[0m \u001b[0mn_out_channels\u001b[0m\u001b[1;33m=\u001b[0m\u001b[1;32mNone\u001b[0m\u001b[1;33m)\u001b[0m\u001b[1;33m(\u001b[0m\u001b[0mn\u001b[0m\u001b[1;33m)\u001b[0m\u001b[1;33m\u001b[0m\u001b[1;33m\u001b[0m\u001b[0m\n\u001b[0m\u001b[0;32m     25\u001b[0m \u001b[1;33m\u001b[0m\u001b[0m\n\u001b[0;32m     26\u001b[0m     \u001b[0mn\u001b[0m \u001b[1;33m=\u001b[0m \u001b[0mtf\u001b[0m\u001b[1;33m.\u001b[0m\u001b[0mkeras\u001b[0m\u001b[1;33m.\u001b[0m\u001b[0mlayers\u001b[0m\u001b[1;33m.\u001b[0m\u001b[0mConv2D\u001b[0m\u001b[1;33m(\u001b[0m\u001b[1;36m256\u001b[0m\u001b[1;33m,\u001b[0m \u001b[1;33m(\u001b[0m\u001b[1;36m3\u001b[0m\u001b[1;33m,\u001b[0m\u001b[1;36m3\u001b[0m\u001b[1;33m)\u001b[0m\u001b[1;33m,\u001b[0m \u001b[1;33m(\u001b[0m\u001b[1;36m1\u001b[0m\u001b[1;33m,\u001b[0m\u001b[1;36m1\u001b[0m\u001b[1;33m)\u001b[0m\u001b[1;33m,\u001b[0m \u001b[0mpadding\u001b[0m\u001b[1;33m=\u001b[0m\u001b[1;34m'same'\u001b[0m\u001b[1;33m,\u001b[0m \u001b[0mkernel_initializer\u001b[0m\u001b[1;33m=\u001b[0m\u001b[0mw_init\u001b[0m\u001b[1;33m)\u001b[0m\u001b[1;33m(\u001b[0m\u001b[0mn\u001b[0m\u001b[1;33m)\u001b[0m\u001b[1;33m\u001b[0m\u001b[1;33m\u001b[0m\u001b[0m\n",
      "\u001b[1;32m~\\AppData\\Local\\Programs\\Python\\Python39\\lib\\site-packages\\tensorlayer\\layers\\core.py\u001b[0m in \u001b[0;36m__call__\u001b[1;34m(self, inputs, *args, **kwargs)\u001b[0m\n\u001b[0;32m    243\u001b[0m \u001b[1;33m\u001b[0m\u001b[0m\n\u001b[0;32m    244\u001b[0m         \u001b[1;32mif\u001b[0m \u001b[1;32mnot\u001b[0m \u001b[0mself\u001b[0m\u001b[1;33m.\u001b[0m\u001b[0m_nodes_fixed\u001b[0m\u001b[1;33m:\u001b[0m\u001b[1;33m\u001b[0m\u001b[1;33m\u001b[0m\u001b[0m\n\u001b[1;32m--> 245\u001b[1;33m             \u001b[0mself\u001b[0m\u001b[1;33m.\u001b[0m\u001b[0m_add_node\u001b[0m\u001b[1;33m(\u001b[0m\u001b[0minput_tensors\u001b[0m\u001b[1;33m,\u001b[0m \u001b[0moutputs\u001b[0m\u001b[1;33m)\u001b[0m\u001b[1;33m\u001b[0m\u001b[1;33m\u001b[0m\u001b[0m\n\u001b[0m\u001b[0;32m    246\u001b[0m \u001b[1;33m\u001b[0m\u001b[0m\n\u001b[0;32m    247\u001b[0m         \u001b[1;32mreturn\u001b[0m \u001b[0moutputs\u001b[0m\u001b[1;33m\u001b[0m\u001b[1;33m\u001b[0m\u001b[0m\n",
      "\u001b[1;32m~\\AppData\\Local\\Programs\\Python\\Python39\\lib\\site-packages\\tensorlayer\\layers\\core.py\u001b[0m in \u001b[0;36m_add_node\u001b[1;34m(self, input_tensors, output_tensors)\u001b[0m\n\u001b[0;32m    271\u001b[0m             \u001b[1;31m# in_nodes = [tensor._info[0] for tensor in inputs_list]\u001b[0m\u001b[1;33m\u001b[0m\u001b[1;33m\u001b[0m\u001b[1;33m\u001b[0m\u001b[0m\n\u001b[0;32m    272\u001b[0m             \u001b[0min_nodes\u001b[0m \u001b[1;33m=\u001b[0m \u001b[1;33m[\u001b[0m\u001b[0mtensor\u001b[0m\u001b[1;33m.\u001b[0m\u001b[0mshape\u001b[0m \u001b[1;32mfor\u001b[0m \u001b[0mtensor\u001b[0m \u001b[1;32min\u001b[0m \u001b[0minputs_list\u001b[0m\u001b[1;33m]\u001b[0m\u001b[1;33m\u001b[0m\u001b[1;33m\u001b[0m\u001b[0m\n\u001b[1;32m--> 273\u001b[1;33m             \u001b[0min_tensor_idxes\u001b[0m \u001b[1;33m=\u001b[0m \u001b[1;33m[\u001b[0m\u001b[0mtensor\u001b[0m\u001b[1;33m.\u001b[0m\u001b[0m_info\u001b[0m\u001b[1;33m[\u001b[0m\u001b[1;36m1\u001b[0m\u001b[1;33m]\u001b[0m \u001b[1;32mfor\u001b[0m \u001b[0mtensor\u001b[0m \u001b[1;32min\u001b[0m \u001b[0minputs_list\u001b[0m\u001b[1;33m]\u001b[0m\u001b[1;33m\u001b[0m\u001b[1;33m\u001b[0m\u001b[0m\n\u001b[0m\u001b[0;32m    274\u001b[0m         \u001b[0mnode_index\u001b[0m \u001b[1;33m=\u001b[0m \u001b[0mlen\u001b[0m\u001b[1;33m(\u001b[0m\u001b[0mself\u001b[0m\u001b[1;33m.\u001b[0m\u001b[0m_nodes\u001b[0m\u001b[1;33m)\u001b[0m\u001b[1;33m\u001b[0m\u001b[1;33m\u001b[0m\u001b[0m\n\u001b[0;32m    275\u001b[0m \u001b[1;33m\u001b[0m\u001b[0m\n",
      "\u001b[1;32m~\\AppData\\Local\\Programs\\Python\\Python39\\lib\\site-packages\\tensorlayer\\layers\\core.py\u001b[0m in \u001b[0;36m<listcomp>\u001b[1;34m(.0)\u001b[0m\n\u001b[0;32m    271\u001b[0m             \u001b[1;31m# in_nodes = [tensor._info[0] for tensor in inputs_list]\u001b[0m\u001b[1;33m\u001b[0m\u001b[1;33m\u001b[0m\u001b[1;33m\u001b[0m\u001b[0m\n\u001b[0;32m    272\u001b[0m             \u001b[0min_nodes\u001b[0m \u001b[1;33m=\u001b[0m \u001b[1;33m[\u001b[0m\u001b[0mtensor\u001b[0m\u001b[1;33m.\u001b[0m\u001b[0mshape\u001b[0m \u001b[1;32mfor\u001b[0m \u001b[0mtensor\u001b[0m \u001b[1;32min\u001b[0m \u001b[0minputs_list\u001b[0m\u001b[1;33m]\u001b[0m\u001b[1;33m\u001b[0m\u001b[1;33m\u001b[0m\u001b[0m\n\u001b[1;32m--> 273\u001b[1;33m             \u001b[0min_tensor_idxes\u001b[0m \u001b[1;33m=\u001b[0m \u001b[1;33m[\u001b[0m\u001b[0mtensor\u001b[0m\u001b[1;33m.\u001b[0m\u001b[0m_info\u001b[0m\u001b[1;33m[\u001b[0m\u001b[1;36m1\u001b[0m\u001b[1;33m]\u001b[0m \u001b[1;32mfor\u001b[0m \u001b[0mtensor\u001b[0m \u001b[1;32min\u001b[0m \u001b[0minputs_list\u001b[0m\u001b[1;33m]\u001b[0m\u001b[1;33m\u001b[0m\u001b[1;33m\u001b[0m\u001b[0m\n\u001b[0m\u001b[0;32m    274\u001b[0m         \u001b[0mnode_index\u001b[0m \u001b[1;33m=\u001b[0m \u001b[0mlen\u001b[0m\u001b[1;33m(\u001b[0m\u001b[0mself\u001b[0m\u001b[1;33m.\u001b[0m\u001b[0m_nodes\u001b[0m\u001b[1;33m)\u001b[0m\u001b[1;33m\u001b[0m\u001b[1;33m\u001b[0m\u001b[0m\n\u001b[0;32m    275\u001b[0m \u001b[1;33m\u001b[0m\u001b[0m\n",
      "\u001b[1;31mAttributeError\u001b[0m: 'KerasTensor' object has no attribute '_info'"
     ]
    }
   ],
   "source": [
    "import time\n",
    "generator = get_gen(input_shape=(384,384,3))\n",
    "# discriminator = get_disc()\n",
    "# fit(ds,5)"
   ]
  },
  {
   "cell_type": "code",
   "execution_count": null,
   "metadata": {},
   "outputs": [],
   "source": []
  }
 ],
 "metadata": {
  "interpreter": {
   "hash": "578ce72e72bd9f13049fd4c13d9f5b1c81715c13ddea0a3c61ff70756cb5d6d4"
  },
  "kernelspec": {
   "display_name": "Python 3.9.2 64-bit",
   "language": "python",
   "name": "python3"
  },
  "language_info": {
   "codemirror_mode": {
    "name": "ipython",
    "version": 3
   },
   "file_extension": ".py",
   "mimetype": "text/x-python",
   "name": "python",
   "nbconvert_exporter": "python",
   "pygments_lexer": "ipython3",
   "version": "3.9.2"
  },
  "orig_nbformat": 4
 },
 "nbformat": 4,
 "nbformat_minor": 2
}
