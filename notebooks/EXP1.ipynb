{
 "cells": [
  {
   "cell_type": "code",
   "execution_count": 1,
   "metadata": {},
   "outputs": [],
   "source": [
    "import pandas as pd\n",
    "import numpy as np\n",
    "import matplotlib.pyplot as plt"
   ]
  },
  {
   "cell_type": "code",
   "execution_count": 10,
   "metadata": {},
   "outputs": [],
   "source": [
    "import tensorflow as tf\n",
    "import tensorlayer as tl"
   ]
  },
  {
   "cell_type": "code",
   "execution_count": 15,
   "metadata": {},
   "outputs": [],
   "source": [
    "def get_gen(input_shape):\n",
    "    w_init = tf.random_normal_initializer(stddev=0.02)\n",
    "    g_init = tf.random_normal_initializer(1., 0.02)\n",
    "\n",
    "    nin = tf.keras.layers.Input(input_shape)\n",
    "    n = tf.keras.layers.Conv2D(64, (3,3), (1,1), padding='same', kernel_initializer=w_init,activation='relu')(nin)\n",
    "    temp=n\n",
    "\n",
    "    # B residual blocks\n",
    "    for i in range(16):\n",
    "        nn = tf.keras.layers.Conv2D(64, (3,3), (1,1), padding='same', kernel_initializer=w_init)(n)\n",
    "        nn = tf.keras.layers.BatchNormalization(gamma_initializer=g_init)(nn)\n",
    "        nn = tf.keras.activations.relu(nn)\n",
    "        nn = tf.keras.layers.Conv2D(64, (3,3), (1,1), padding='same', kernel_initializer=w_init)(nn)\n",
    "        nn = tf.keras.layers.BatchNormalization(gamma_initializer=g_init)(nn)\n",
    "        nn = tf.keras.layers.Add()([n, nn])\n",
    "        n=nn\n",
    "\n",
    "    n = tf.keras.layers.Conv2D(64, (3,3), (1,1), padding='same', kernel_initializer=w_init,bias_initializer=None)(n)\n",
    "    n = tf.keras.layers.BatchNormalization(gamma_initializer=g_init)(n)\n",
    "    n = tf.keras.layers.Add()([n, temp])\n",
    "\n",
    "    n = tf.keras.layers.Conv2D(256, (3,3), (1,1), padding='same', kernel_initializer=w_init)(n)\n",
    "    n = tl.layers.SubpixelConv2d(scale=2, n_out_channel=None)(n)\n",
    "\n",
    "    n = tf.keras.layers.Conv2D(256, (3,3), (1,1), padding='same', kernel_initializer=w_init)(n)\n",
    "    n = tl.layers.SubpixelConv2d(scale=2, n_out_channel=None)(n)\n",
    "\n",
    "    nn = tf.keras.layers.Conv2D(3, (1,1), (1,1), padding='same', kernel_initializer=w_init,activation='tanh')(n)\n",
    "    generator = tf.keras.models.Model(inputs=nin, outputs=nn, name='generator')\n",
    "    return generator"
   ]
  },
  {
   "cell_type": "code",
   "execution_count": 21,
   "metadata": {},
   "outputs": [],
   "source": [
    "def get_Dis(input_shape):\n",
    "    w_init = tf.random_normal_initializer(stddev=0.02)\n",
    "    gamma_initializer = tf.random_normal_initializer(1., 0.02)\n",
    "    df_dim = 64\n",
    "    \n",
    "    nin = tf.keras.layers.Input(input_shape)\n",
    "    n = tf.keras.layers.Conv2D(df_dim, (4,4), (1,1), padding='same', kernel_initializer=w_init,activation='LeakyReLU')(nin)\n",
    "\n",
    "    n = tf.keras.layers.Conv2D(df_dim, (4,4), (2,2), padding='same', kernel_initializer=w_init,activation='LeakyReLU',bias_initializer=None)(n)\n",
    "    n = tf.keras.layers.BatchNormalization(gamma_initializer=gamma_initializer)(n)\n",
    "    n = tf.keras.layers.Conv2D(df_dim*2, (4,4), (1,1), padding='same', kernel_initializer=w_init,activation='LeakyReLU',bias_initializer=None)(n)\n",
    "    n = tf.keras.layers.BatchNormalization(gamma_initializer=gamma_initializer)(n)\n",
    "    n = tf.keras.layers.Conv2D(df_dim*2, (4,4), (2,2), padding='same', kernel_initializer=w_init,activation='LeakyReLU',bias_initializer=None)(n)\n",
    "    n = tf.keras.layers.BatchNormalization(gamma_initializer=gamma_initializer)(n)\n",
    "    n = tf.keras.layers.Conv2D(df_dim*4, (4,4), (1,1), padding='same', kernel_initializer=w_init,activation='LeakyReLU',bias_initializer=None)(n)\n",
    "    n = tf.keras.layers.BatchNormalization(gamma_initializer=gamma_initializer)(n)\n",
    "    n = tf.keras.layers.Conv2D(df_dim*4, (4,4), (2,2), padding='same', kernel_initializer=w_init,activation='LeakyReLU',bias_initializer=None)(n)\n",
    "    n = tf.keras.layers.BatchNormalization(gamma_initializer=gamma_initializer)(n)\n",
    "    n = tf.keras.layers.Conv2D(df_dim*8, (4,4), (1,1), padding='same', kernel_initializer=w_init,activation='LeakyReLU',bias_initializer=None)(n)\n",
    "    n = tf.keras.layers.BatchNormalization(gamma_initializer=gamma_initializer)(n)\n",
    "    n = tf.keras.layers.Conv2D(df_dim*8, (4,4), (2,2), padding='same', kernel_initializer=w_init,activation='LeakyReLU',bias_initializer=None)(n)\n",
    "    n = tf.keras.layers.BatchNormalization(gamma_initializer=gamma_initializer)(n)\n",
    "\n",
    "    n = tf.keras.layers.Flatten()(n)\n",
    "    n = tf.keras.layers.Dense(1024, kernel_initializer=w_init,activation='LeakyReLU')(n)\n",
    "    n = tf.keras.layers.Dense(1, kernel_initializer=w_init,activation='sigmoid')(n)\n",
    "    discriminator = tf.keras.models.Model(inputs=nin, outputs=n, name='discriminator')\n",
    "    return discriminator\n",
    "    "
   ]
  },
  {
   "cell_type": "code",
   "execution_count": 22,
   "metadata": {},
   "outputs": [],
   "source": [
    "def get_Dis2(input_shape):\n",
    "    w_init = tf.random_normal_initializer(stddev=0.02)\n",
    "    gamma_initializer = tf.random_normal_initializer(1., 0.02)\n",
    "    df_dim = 64\n",
    "\n",
    "    nin = tf.keras.layers.Input(input_shape)\n",
    "    n = tf.keras.layers.Conv2D(df_dim, (4,4), (2,2), padding='same', kernel_initializer=w_init,activation='LeakyReLU')(nin)\n",
    "\n",
    "    n = tf.keras.layers.Conv2D(df_dim*2, (4,4), (2,2), padding='same', kernel_initializer=w_init,activation='LeakyReLU',bias_initializer=None)(n)\n",
    "    n = tf.keras.layers.BatchNormalization(gamma_initializer=gamma_initializer)(n)\n",
    "    n = tf.keras.layers.Conv2D(df_dim*4, (4,4), (2,2), padding='same', kernel_initializer=w_init,activation='LeakyReLU',bias_initializer=None)(n)\n",
    "    n = tf.keras.layers.BatchNormalization(gamma_initializer=gamma_initializer)(n)\n",
    "    n = tf.keras.layers.Conv2D(df_dim*8, (4,4), (2,2), padding='same', kernel_initializer=w_init,activation='LeakyReLU',bias_initializer=None)(n)\n",
    "    n = tf.keras.layers.BatchNormalization(gamma_initializer=gamma_initializer)(n)\n",
    "    n = tf.keras.layers.Conv2D(df_dim*16, (4,4), (2,2), padding='same', kernel_initializer=w_init,activation='LeakyReLU',bias_initializer=None)(n)\n",
    "    n = tf.keras.layers.BatchNormalization(gamma_initializer=gamma_initializer)(n)\n",
    "    n = tf.keras.layers.Conv2D(df_dim*32, (4,4), (2,2), padding='same', kernel_initializer=w_init,activation='LeakyReLU',bias_initializer=None)(n)\n",
    "    n = tf.keras.layers.BatchNormalization(gamma_initializer=gamma_initializer)(n)\n",
    "    n = tf.keras.layers.Conv2D(df*16, (1,1), (1,1), padding='same', kernel_initializer=w_init,activation='LeakyReLU',bias_initializer=None)(n)\n",
    "    n = tf.keras.layers.BatchNormalization(gamma_initializer=gamma_initializer)(n)\n",
    "    n = tf.keras.layers.Conv2D(df*8, (1,1), (1,1), padding='same', kernel_initializer=w_init,activation='LeakyReLU',bias_initializer=None)(n)\n",
    "    nn = tf.keras.layers.BatchNormalization(gamma_initializer=gamma_initializer)(n)\n",
    "\n",
    "    n = tf.keras.layers.Conv2D(df*2,(1,1),(1,1),padding='same',kernel_initializer=w_init,activation='LeakyReLU',bias_initializer=None)(nn)\n",
    "    n = tf.keras.layers.BatchNormalization(gamma_initializer=gamma_initializer)(n)\n",
    "    n = tf.keras.layers.Conv2D(df*2,(3,3),(1,1),padding='same',kernel_initializer=w_init,activation='LeakyReLU',bias_initializer=None)(n)\n",
    "    n = tf.keras.layers.BatchNormalization(gamma_initializer=gamma_initializer)(n)\n",
    "    n = tf.keras.layers.Conv2D(df*8,(3,3),(1,1),padding='same',kernel_initializer=w_init,activation='LeakyReLU',bias_initializer=None)(n)\n",
    "    n = tf.keras.layers.BatchNormalization(gamma_initializer=gamma_initializer)(n)\n",
    "    n = tf.keras.layers.Add()([nn,n])\n",
    "\n",
    "    n = Flatten()(n)\n",
    "    n = Dense(1,kernel_initializer=w_init,activation='LeakyReLU')(n)\n",
    "    discriminator = tf.keras.models.Model(inputs=nin, outputs=n, name='discriminator')\n",
    "    return discriminator"
   ]
  },
  {
   "cell_type": "code",
   "execution_count": 28,
   "metadata": {},
   "outputs": [],
   "source": [
    "def load(image_file):\n",
    "    image = tf.io.read_file(image_file)\n",
    "    image = tf.image.decode_png(image)\n",
    "    image = tf.cast(image, tf.float32)\n",
    "    return image\n",
    "\n",
    "def resize(image,height,width):\n",
    "    image = tf.image.resize(image,[height,width],method=tf.image.ResizeMethod.NEAREST_NEIGHBOR)\n",
    "    return image\n",
    "\n",
    "def normalize(image):\n",
    "    image = (image/127.5)-1\n",
    "    return image\n",
    "\n",
    "def random_crop(image):\n",
    "    image = tf.image.random_crop(image,[64,64,3])\n",
    "    return image\n",
    "\n",
    "@tf.function\n",
    "def random_jitter(image):\n",
    "    image = resize(image,286,286)\n",
    "    image = random_crop(image)\n",
    "\n",
    "    if tf.random.uniform(())>0.5:\n",
    "        image = tf.image.flip_left_right(image)\n",
    "    return image"
   ]
  },
  {
   "cell_type": "code",
   "execution_count": 29,
   "metadata": {},
   "outputs": [],
   "source": [
    "def load_image_train(image_file):\n",
    "    image = load(image_file)\n",
    "    image = random_jitter(image)\n",
    "    image = normalize(image)\n",
    "    return image\n",
    "\n",
    "def load_image_test(image_file):\n",
    "    image = load(image_file)\n",
    "    image = resize(image,256,256)\n",
    "    image = normalize(image)\n",
    "    return image"
   ]
  },
  {
   "cell_type": "code",
   "execution_count": 31,
   "metadata": {},
   "outputs": [],
   "source": [
    "train_dataset_LR = tf.data.Dataset.list_files(r'C:\\Users\\kc510\\Documents\\Projects\\Projects_MLOps\\Project_SuperResolution\\data\\train\\LR'+'\\\\*.png')\n",
    "train_dataset_LR = train_dataset_LR.map(load_image_train,num_parallel_calls=tf.data.experimental.AUTOTUNE)\n",
    "train_dataset_LR = train_dataset_LR.shuffle(buffer_size=800).batch(4)\n",
    "\n",
    "train_dataset_HR = tf.data.Dataset.list_files(r'C:\\Users\\kc510\\Documents\\Projects\\Projects_MLOps\\Project_SuperResolution\\data\\train\\HR'+'\\\\*.png')\n",
    "train_dataset_HR = train_dataset_HR.map(load_image_test,num_parallel_calls=tf.data.experimental.AUTOTUNE)\n",
    "train_dataset_HR = train_dataset_HR.shuffle(buffer_size=800).batch(4)"
   ]
  },
  {
   "cell_type": "code",
   "execution_count": null,
   "metadata": {},
   "outputs": [],
   "source": []
  }
 ],
 "metadata": {
  "interpreter": {
   "hash": "578ce72e72bd9f13049fd4c13d9f5b1c81715c13ddea0a3c61ff70756cb5d6d4"
  },
  "kernelspec": {
   "display_name": "Python 3.9.2 64-bit",
   "language": "python",
   "name": "python3"
  },
  "language_info": {
   "codemirror_mode": {
    "name": "ipython",
    "version": 3
   },
   "file_extension": ".py",
   "mimetype": "text/x-python",
   "name": "python",
   "nbconvert_exporter": "python",
   "pygments_lexer": "ipython3",
   "version": "3.9.2"
  },
  "orig_nbformat": 4
 },
 "nbformat": 4,
 "nbformat_minor": 2
}
