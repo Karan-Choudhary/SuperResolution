{
 "cells": [
  {
   "cell_type": "code",
   "execution_count": 1,
   "metadata": {},
   "outputs": [],
   "source": [
    "import pandas as pd\n",
    "import numpy as np\n",
    "import matplotlib.pyplot as plt"
   ]
  },
  {
   "cell_type": "code",
   "execution_count": 10,
   "metadata": {},
   "outputs": [],
   "source": [
    "import tensorflow as tf\n",
    "import tensorlayer as tl"
   ]
  },
  {
   "cell_type": "code",
   "execution_count": 15,
   "metadata": {},
   "outputs": [],
   "source": [
    "def get_gen(input_shape):\n",
    "    w_init = tf.random_normal_initializer(stddev=0.02)\n",
    "    g_init = tf.random_normal_initializer(1., 0.02)\n",
    "\n",
    "    nin = tf.keras.layers.Input(input_shape)\n",
    "    n = tf.keras.layers.Conv2D(64, (3,3), (1,1), padding='same', kernel_initializer=w_init,activation='relu')(nin)\n",
    "    temp=n\n",
    "\n",
    "    # B residual blocks\n",
    "    for i in range(16):\n",
    "        nn = tf.keras.layers.Conv2D(64, (3,3), (1,1), padding='same', kernel_initializer=w_init)(n)\n",
    "        nn = tf.keras.layers.BatchNormalization(gamma_initializer=g_init)(nn)\n",
    "        nn = tf.keras.activations.relu(nn)\n",
    "        nn = tf.keras.layers.Conv2D(64, (3,3), (1,1), padding='same', kernel_initializer=w_init)(nn)\n",
    "        nn = tf.keras.layers.BatchNormalization(gamma_initializer=g_init)(nn)\n",
    "        nn = tf.keras.layers.Add()([n, nn])\n",
    "        n=nn\n",
    "\n",
    "    n = tf.keras.layers.Conv2D(64, (3,3), (1,1), padding='same', kernel_initializer=w_init,bias_initializer=None)(n)\n",
    "    n = tf.keras.layers.BatchNormalization(gamma_initializer=g_init)(n)\n",
    "    n = tf.keras.layers.Add()([n, temp])\n",
    "\n",
    "    n = tf.keras.layers.Conv2D(256, (3,3), (1,1), padding='same', kernel_initializer=w_init)(n)\n",
    "    n = tl.layers.SubpixelConv2d(scale=2, n_out_channel=None)(n)\n",
    "\n",
    "    n = tf.keras.layers.Conv2D(256, (3,3), (1,1), padding='same', kernel_initializer=w_init)(n)\n",
    "    n = tl.layers.SubpixelConv2d(scale=2, n_out_channel=None)(n)\n",
    "\n",
    "    nn = tf.keras.layers.Conv2D(3, (1,1), (1,1), padding='same', kernel_initializer=w_init,activation='tanh')(n)\n",
    "    generator = tf.keras.models.Model(inputs=nin, outputs=nn, name='generator')\n",
    "    return generator"
   ]
  },
  {
   "cell_type": "code",
   "execution_count": 21,
   "metadata": {},
   "outputs": [],
   "source": [
    "def get_Dis(input_shape):\n",
    "    w_init = tf.random_normal_initializer(stddev=0.02)\n",
    "    gamma_initializer = tf.random_normal_initializer(1., 0.02)\n",
    "    df_dim = 64\n",
    "    \n",
    "    nin = tf.keras.layers.Input(input_shape)\n",
    "    n = tf.keras.layers.Conv2D(df_dim, (4,4), (1,1), padding='same', kernel_initializer=w_init,activation='LeakyReLU')(nin)\n",
    "\n",
    "    n = tf.keras.layers.Conv2D(df_dim, (4,4), (2,2), padding='same', kernel_initializer=w_init,activation='LeakyReLU',bias_initializer=None)(n)\n",
    "    n = tf.keras.layers.BatchNormalization(gamma_initializer=gamma_initializer)(n)\n",
    "    n = tf.keras.layers.Conv2D(df_dim*2, (4,4), (1,1), padding='same', kernel_initializer=w_init,activation='LeakyReLU',bias_initializer=None)(n)\n",
    "    n = tf.keras.layers.BatchNormalization(gamma_initializer=gamma_initializer)(n)\n",
    "    n = tf.keras.layers.Conv2D(df_dim*2, (4,4), (2,2), padding='same', kernel_initializer=w_init,activation='LeakyReLU',bias_initializer=None)(n)\n",
    "    n = tf.keras.layers.BatchNormalization(gamma_initializer=gamma_initializer)(n)\n",
    "    n = tf.keras.layers.Conv2D(df_dim*4, (4,4), (1,1), padding='same', kernel_initializer=w_init,activation='LeakyReLU',bias_initializer=None)(n)\n",
    "    n = tf.keras.layers.BatchNormalization(gamma_initializer=gamma_initializer)(n)\n",
    "    n = tf.keras.layers.Conv2D(df_dim*4, (4,4), (2,2), padding='same', kernel_initializer=w_init,activation='LeakyReLU',bias_initializer=None)(n)\n",
    "    n = tf.keras.layers.BatchNormalization(gamma_initializer=gamma_initializer)(n)\n",
    "    n = tf.keras.layers.Conv2D(df_dim*8, (4,4), (1,1), padding='same', kernel_initializer=w_init,activation='LeakyReLU',bias_initializer=None)(n)\n",
    "    n = tf.keras.layers.BatchNormalization(gamma_initializer=gamma_initializer)(n)\n",
    "    n = tf.keras.layers.Conv2D(df_dim*8, (4,4), (2,2), padding='same', kernel_initializer=w_init,activation='LeakyReLU',bias_initializer=None)(n)\n",
    "    n = tf.keras.layers.BatchNormalization(gamma_initializer=gamma_initializer)(n)\n",
    "\n",
    "    n = tf.keras.layers.Flatten()(n)\n",
    "    n = tf.keras.layers.Dense(1024, kernel_initializer=w_init,activation='LeakyReLU')(n)\n",
    "    n = tf.keras.layers.Dense(1, kernel_initializer=w_init,activation='sigmoid')(n)\n",
    "    discriminator = tf.keras.models.Model(inputs=nin, outputs=n, name='discriminator')\n",
    "    return discriminator\n",
    "    "
   ]
  },
  {
   "cell_type": "code",
   "execution_count": 22,
   "metadata": {},
   "outputs": [],
   "source": [
    "def get_Dis2(input_shape):\n",
    "    w_init = tf.random_normal_initializer(stddev=0.02)\n",
    "    gamma_initializer = tf.random_normal_initializer(1., 0.02)\n",
    "    df_dim = 64\n",
    "\n",
    "    nin = tf.keras.layers.Input(input_shape)\n",
    "    n = tf.keras.layers.Conv2D(df_dim, (4,4), (2,2), padding='same', kernel_initializer=w_init,activation='LeakyReLU')(nin)\n",
    "\n",
    "    n = tf.keras.layers.Conv2D(df_dim*2, (4,4), (2,2), padding='same', kernel_initializer=w_init,activation='LeakyReLU',bias_initializer=None)(n)\n",
    "    n = tf.keras.layers.BatchNormalization(gamma_initializer=gamma_initializer)(n)\n",
    "    n = tf.keras.layers.Conv2D(df_dim*4, (4,4), (2,2), padding='same', kernel_initializer=w_init,activation='LeakyReLU',bias_initializer=None)(n)\n",
    "    n = tf.keras.layers.BatchNormalization(gamma_initializer=gamma_initializer)(n)\n",
    "    n = tf.keras.layers.Conv2D(df_dim*8, (4,4), (2,2), padding='same', kernel_initializer=w_init,activation='LeakyReLU',bias_initializer=None)(n)\n",
    "    n = tf.keras.layers.BatchNormalization(gamma_initializer=gamma_initializer)(n)\n",
    "    n = tf.keras.layers.Conv2D(df_dim*16, (4,4), (2,2), padding='same', kernel_initializer=w_init,activation='LeakyReLU',bias_initializer=None)(n)\n",
    "    n = tf.keras.layers.BatchNormalization(gamma_initializer=gamma_initializer)(n)\n",
    "    n = tf.keras.layers.Conv2D(df_dim*32, (4,4), (2,2), padding='same', kernel_initializer=w_init,activation='LeakyReLU',bias_initializer=None)(n)\n",
    "    n = tf.keras.layers.BatchNormalization(gamma_initializer=gamma_initializer)(n)\n",
    "    n = tf.keras.layers.Conv2D(df*16, (1,1), (1,1), padding='same', kernel_initializer=w_init,activation='LeakyReLU',bias_initializer=None)(n)\n",
    "    n = tf.keras.layers.BatchNormalization(gamma_initializer=gamma_initializer)(n)\n",
    "    n = tf.keras.layers.Conv2D(df*8, (1,1), (1,1), padding='same', kernel_initializer=w_init,activation='LeakyReLU',bias_initializer=None)(n)\n",
    "    nn = tf.keras.layers.BatchNormalization(gamma_initializer=gamma_initializer)(n)\n",
    "\n",
    "    n = tf.keras.layers.Conv2D(df*2,(1,1),(1,1),padding='same',kernel_initializer=w_init,activation='LeakyReLU',bias_initializer=None)(nn)\n",
    "    n = tf.keras.layers.BatchNormalization(gamma_initializer=gamma_initializer)(n)\n",
    "    n = tf.keras.layers.Conv2D(df*2,(3,3),(1,1),padding='same',kernel_initializer=w_init,activation='LeakyReLU',bias_initializer=None)(n)\n",
    "    n = tf.keras.layers.BatchNormalization(gamma_initializer=gamma_initializer)(n)\n",
    "    n = tf.keras.layers.Conv2D(df*8,(3,3),(1,1),padding='same',kernel_initializer=w_init,activation='LeakyReLU',bias_initializer=None)(n)\n",
    "    n = tf.keras.layers.BatchNormalization(gamma_initializer=gamma_initializer)(n)\n",
    "    n = tf.keras.layers.Add()([nn,n])\n",
    "\n",
    "    n = Flatten()(n)\n",
    "    n = Dense(1,kernel_initializer=w_init,activation='LeakyReLU')(n)\n",
    "    discriminator = tf.keras.models.Model(inputs=nin, outputs=n, name='discriminator')\n",
    "    return discriminator"
   ]
  }
 ],
 "metadata": {
  "interpreter": {
   "hash": "578ce72e72bd9f13049fd4c13d9f5b1c81715c13ddea0a3c61ff70756cb5d6d4"
  },
  "kernelspec": {
   "display_name": "Python 3.9.2 64-bit",
   "language": "python",
   "name": "python3"
  },
  "language_info": {
   "codemirror_mode": {
    "name": "ipython",
    "version": 3
   },
   "file_extension": ".py",
   "mimetype": "text/x-python",
   "name": "python",
   "nbconvert_exporter": "python",
   "pygments_lexer": "ipython3",
   "version": "3.9.2"
  },
  "orig_nbformat": 4
 },
 "nbformat": 4,
 "nbformat_minor": 2
}
